{
  "nbformat": 4,
  "nbformat_minor": 0,
  "metadata": {
    "colab": {
      "provenance": []
    },
    "kernelspec": {
      "name": "python3",
      "display_name": "Python 3"
    },
    "language_info": {
      "name": "python"
    },
    "accelerator": "GPU",
    "gpuClass": "standard"
  },
  "cells": [
    {
      "cell_type": "code",
      "execution_count": null,
      "metadata": {
        "id": "OvjonLW_mo2h"
      },
      "outputs": [],
      "source": [
        "#!pip install transformers \n",
        "\n",
        "# Data Processing\n",
        "import pandas as pd\n",
        "import numpy as np\n",
        "import pickle\n",
        "import joblib\n",
        "\n",
        "# Modelling\n",
        "from sklearn.ensemble import RandomForestClassifier\n",
        "from sklearn.metrics import accuracy_score, confusion_matrix, precision_score, recall_score, ConfusionMatrixDisplay,classification_report\n",
        "from sklearn.model_selection import GridSearchCV, train_test_split\n",
        "from sklearn.linear_model import LogisticRegression\n",
        "from sklearn.ensemble import RandomForestClassifier\n",
        "from sklearn import svm\n",
        "from sklearn.svm import SVC\n",
        "import warnings\n",
        "warnings.filterwarnings('ignore')"
      ]
    },
    {
      "cell_type": "code",
      "source": [
        "with open('/content/drive/MyDrive/CSCI 535 Project/Implementation/training_models/data/ami_data/ami_xtrain_embedding.pickle', 'rb') as pkl:\n",
        "    x_train_ami = pickle.load(pkl)\n",
        "\n",
        "with open('/content/drive/MyDrive/CSCI 535 Project/Implementation/training_models/data/ami_data/ami_ytrain_embedding.pickle', 'rb') as pkl:\n",
        "    y_train_ami = pickle.load(pkl)\n",
        "\n",
        "with open('/content/drive/MyDrive/CSCI 535 Project/Implementation/training_models/data/ami_data/ami_xval_embedding.pickle', 'rb') as pkl:\n",
        "    x_val_ami = pickle.load(pkl)\n",
        "\n",
        "with open('/content/drive/MyDrive/CSCI 535 Project/Implementation/training_models/data/ami_data/ami_yval_embedding.pickle', 'rb') as pkl:\n",
        "    y_val_ami = pickle.load(pkl)  "
      ],
      "metadata": {
        "id": "8OlKI2q4mup7"
      },
      "execution_count": null,
      "outputs": []
    },
    {
      "cell_type": "code",
      "source": [
        "with open('/content/drive/MyDrive/CSCI 535 Project/Implementation/training_models/data/reddit_data/reddit_xtrain_embedding.pickle', 'rb') as pkl:\n",
        "    x_train_reddit = pickle.load(pkl)\n",
        "\n",
        "with open('/content/drive/MyDrive/CSCI 535 Project/Implementation/training_models/data/reddit_data/reddit_ytrain_embedding.pickle', 'rb') as pkl:\n",
        "    y_train_reddit = pickle.load(pkl)\n",
        "\n",
        "with open('/content/drive/MyDrive/CSCI 535 Project/Implementation/training_models/data/reddit_data/reddit_xval_embedding.pickle', 'rb') as pkl:\n",
        "    x_val_reddit = pickle.load(pkl)\n",
        "\n",
        "with open('/content/drive/MyDrive/CSCI 535 Project/Implementation/training_models/data/reddit_data/reddit_yval_embedding.pickle', 'rb') as pkl: \n",
        "    y_val_reddit = pickle.load(pkl)"
      ],
      "metadata": {
        "id": "-qynvZtXnM64"
      },
      "execution_count": null,
      "outputs": []
    },
    {
      "cell_type": "code",
      "source": [
        "x_train_reddit = x_train_reddit.reshape(-1,x_train_reddit.shape[-1])\n",
        "x_val_reddit=x_val_reddit.reshape(-1,x_val_reddit.shape[-1])"
      ],
      "metadata": {
        "id": "8-r1aczMnz7_"
      },
      "execution_count": null,
      "outputs": []
    },
    {
      "cell_type": "code",
      "source": [
        "#name='GaussianNB'\n",
        "#estimator = joblib.load('/content/drive/MyDrive/CSCI 535 Project/Implementation/training_models/models/ami_{0}_best_model.pkl'.format(name))\n",
        "#print(estimator.best_estimator_)\n",
        "from sklearn.naive_bayes import MultinomialNB\n",
        "model = GaussianNB()\n",
        "from sklearn.preprocessing import MinMaxScaler #fixed import\n",
        "\n",
        "scaler = MinMaxScaler()\n",
        "x_train_ami = scaler.fit_transform(x_train_ami)\n",
        "x_val_reddit = scaler.transform(x_val_reddit.cpu())\n",
        "x_train_reddit = scaler.fit_transform(x_train_reddit.cpu())\n",
        "#model.fit(x_train_reddit.cpu(),y_train_reddit)\n",
        "model.fit(x_train_ami,y_train_ami)\n",
        "model.fit(x_train_reddit,y_train_reddit)\n",
        "preds = model.predict(x_val_reddit)"
      ],
      "metadata": {
        "colab": {
          "base_uri": "https://localhost:8080/",
          "height": 235
        },
        "id": "EGjCgS0b4jJv",
        "outputId": "24bde735-eebe-4591-ff30-5a3e93b210e5"
      },
      "execution_count": null,
      "outputs": [
        {
          "output_type": "error",
          "ename": "NameError",
          "evalue": "ignored",
          "traceback": [
            "\u001b[0;31m---------------------------------------------------------------------------\u001b[0m",
            "\u001b[0;31mNameError\u001b[0m                                 Traceback (most recent call last)",
            "\u001b[0;32m<ipython-input-24-7195434c0b7a>\u001b[0m in \u001b[0;36m<module>\u001b[0;34m\u001b[0m\n\u001b[1;32m      3\u001b[0m \u001b[0;31m#print(estimator.best_estimator_)\u001b[0m\u001b[0;34m\u001b[0m\u001b[0;34m\u001b[0m\u001b[0m\n\u001b[1;32m      4\u001b[0m \u001b[0;32mfrom\u001b[0m \u001b[0msklearn\u001b[0m\u001b[0;34m.\u001b[0m\u001b[0mnaive_bayes\u001b[0m \u001b[0;32mimport\u001b[0m \u001b[0mMultinomialNB\u001b[0m\u001b[0;34m\u001b[0m\u001b[0;34m\u001b[0m\u001b[0m\n\u001b[0;32m----> 5\u001b[0;31m \u001b[0mmodel\u001b[0m \u001b[0;34m=\u001b[0m \u001b[0mGaussianNB\u001b[0m\u001b[0;34m(\u001b[0m\u001b[0;34m)\u001b[0m\u001b[0;34m\u001b[0m\u001b[0;34m\u001b[0m\u001b[0m\n\u001b[0m\u001b[1;32m      6\u001b[0m \u001b[0;32mfrom\u001b[0m \u001b[0msklearn\u001b[0m\u001b[0;34m.\u001b[0m\u001b[0mpreprocessing\u001b[0m \u001b[0;32mimport\u001b[0m \u001b[0mMinMaxScaler\u001b[0m \u001b[0;31m#fixed import\u001b[0m\u001b[0;34m\u001b[0m\u001b[0;34m\u001b[0m\u001b[0m\n\u001b[1;32m      7\u001b[0m \u001b[0;34m\u001b[0m\u001b[0m\n",
            "\u001b[0;31mNameError\u001b[0m: name 'GaussianNB' is not defined"
          ]
        }
      ]
    },
    {
      "cell_type": "code",
      "source": [
        "preds = model.predict(x_val_reddit)\n",
        "accuracy = accuracy_score(y_val_reddit, preds)\n",
        "precision = precision_score(y_val_reddit, preds)\n",
        "recall = recall_score(y_val_reddit, preds)\n",
        "print(\"Accuracy:\", accuracy)\n",
        "print(\"Precision:\", precision)\n",
        "print(\"Recall:\", recall)"
      ],
      "metadata": {
        "colab": {
          "base_uri": "https://localhost:8080/"
        },
        "id": "LDTgtpYz5Dr-",
        "outputId": "bb6c71ab-8b6b-4182-aadb-ba034bdfbc46"
      },
      "execution_count": null,
      "outputs": [
        {
          "output_type": "stream",
          "name": "stdout",
          "text": [
            "Accuracy: 0.5395849346656418\n",
            "Precision: 0.15942028985507245\n",
            "Recall: 0.8527131782945736\n"
          ]
        }
      ]
    },
    {
      "cell_type": "code",
      "source": [
        "cm = confusion_matrix(y_val_reddit, preds)\n",
        "ConfusionMatrixDisplay(confusion_matrix=cm).plot();\n",
        "print('Classification Report:')\n",
        "print('\\n')\n",
        "print(classification_report(y_val_reddit, preds))"
      ],
      "metadata": {
        "colab": {
          "base_uri": "https://localhost:8080/",
          "height": 487
        },
        "id": "_BH83KaC5GmQ",
        "outputId": "e51d4493-8459-4707-f8f6-c7bc13b5bdc0"
      },
      "execution_count": null,
      "outputs": [
        {
          "output_type": "stream",
          "name": "stdout",
          "text": [
            "Classification Report:\n",
            "\n",
            "\n",
            "              precision    recall  f1-score   support\n",
            "\n",
            "           0       0.97      0.51      0.66      1172\n",
            "           1       0.16      0.85      0.27       129\n",
            "\n",
            "    accuracy                           0.54      1301\n",
            "   macro avg       0.56      0.68      0.47      1301\n",
            "weighted avg       0.89      0.54      0.62      1301\n",
            "\n"
          ]
        },
        {
          "output_type": "display_data",
          "data": {
            "text/plain": [
              "<Figure size 432x288 with 2 Axes>"
            ],
            "image/png": "[encoded data removed]"
          },
          "metadata": {
            "needs_background": "light"
          }
        }
      ]
    },
    {
      "cell_type": "code",
      "source": [
        "from sklearn.utils.class_weight import compute_class_weight\n",
        "def calculate_weights(labels): \n",
        "  class_weights = compute_class_weight(class_weight='balanced', classes=np.unique(labels), \n",
        "                y=labels)\n",
        "  return class_weights"
      ],
      "metadata": {
        "id": "JueZpaXlshkK"
      },
      "execution_count": null,
      "outputs": []
    },
    {
      "cell_type": "code",
      "source": [
        "#cw=calculate_weights(y_val_reddit)\n",
        "cw=dict(zip(np.unique(y_train_reddit), compute_class_weight(class_weight='balanced', classes=np.unique(y_train_reddit), \n",
        "                y=y_train_reddit.to_list())))"
      ],
      "metadata": {
        "id": "cqsr6dHxsndv"
      },
      "execution_count": null,
      "outputs": []
    },
    {
      "cell_type": "code",
      "source": [
        "from sklearn.naive_bayes import GaussianNB\n",
        "from sklearn.tree import DecisionTreeClassifier\n",
        "processed_data = {}\n",
        "def construct_model_ami(x_train,y_train):\n",
        "    # the list of classifiers to use\n",
        "    # use random_state for reproducibility\n",
        "    classifiers = [\n",
        "        LogisticRegression(random_state=0), \n",
        "        DecisionTreeClassifier(random_state=0),\n",
        "        SVC(random_state=0), \n",
        "        \n",
        "    ]\n",
        "    \n",
        "    logregress_parameters = { \n",
        "        'C'       : np.logspace(-1,1,3),\n",
        "        'solver'  : ['newton-cg', 'lbfgs', 'liblinear'],\n",
        "    }\n",
        "    \n",
        "    svc_parameters ={   \n",
        "        'C': [0.1, 1, 10], \n",
        "        'gamma': [1, 0.1, 0.01],\n",
        "        'kernel': ['linear']\n",
        "    } \n",
        "    dt_parameters = {\n",
        "        'criterion':['gini','entropy'],\n",
        "        'max_depth':[4,6,10]\n",
        "    }\n",
        "    # stores all the paramete rs in a list \n",
        "    parameters = [\n",
        "        logregress_parameters, \n",
        "        dt_parameters,\n",
        "        svc_parameters, \n",
        "        \n",
        "    ]\n",
        "    # estimators is a list of tuple -> \n",
        "    #   [(name_of_classifier, tuned_estimator)]\n",
        "    processed_data['estimators'] = []\n",
        "    \n",
        "    # iterate through each classifier and use GridSearchCV\n",
        "    for i, classifier in enumerate(classifiers):\n",
        "        clf = GridSearchCV(classifier,              # model\n",
        "                  param_grid = parameters[i], # hyperparameters\n",
        "                  scoring='accuracy',         # metric for scoring\n",
        "                  cv=10,\n",
        "                  n_jobs=-1, error_score='raise')\n",
        "        #X_train, processed_data['X_test'], y_train, processed_data['y_test'], indices_train, processed_data['indices_test'] = train_test_split(features, labels, dataframe.index, test_size=0.33, random_state=0, shuffle=True)\n",
        "        clf.fit(x_train,y_train)\n",
        "        # add the clf to the estimators list\n",
        "        processed_data['estimators'].append((classifier.__class__.__name__, clf))  "
      ],
      "metadata": {
        "id": "SWi-4v3WpQzk"
      },
      "execution_count": null,
      "outputs": []
    },
    {
      "cell_type": "code",
      "source": [
        "construct_model_ami(x_train_ami,y_train_ami)"
      ],
      "metadata": {
        "id": "A4old3ruu9Gk"
      },
      "execution_count": null,
      "outputs": []
    },
    {
      "cell_type": "code",
      "source": [
        "for name, clf in processed_data['estimators']:\n",
        "    print(name)\n",
        "    print(\"Tuned Hyperparameters :\", clf.best_params_)\n",
        "    print(\"Accuracy :\", clf.best_score_)\n",
        "    print(\"__________________________________________________________\")\n",
        "    joblib.dump(clf.best_estimator_, '/content/drive/MyDrive/CSCI 535 Project/Implementation/training_models/models/ami_{0}_best_model.pkl'.format(name))"
      ],
      "metadata": {
        "colab": {
          "base_uri": "https://localhost:8080/"
        },
        "id": "XAicoMesvAnv",
        "outputId": "8efa16b4-5a1a-48ba-e759-742267e48ac4"
      },
      "execution_count": null,
      "outputs": [
        {
          "output_type": "stream",
          "name": "stdout",
          "text": [
            "LogisticRegression\n",
            "Tuned Hyperparameters : {'C': 1.0, 'solver': 'liblinear'}\n",
            "Accuracy : 0.758822307023841\n",
            "__________________________________________________________\n",
            "DecisionTreeClassifier\n",
            "Tuned Hyperparameters : {'criterion': 'entropy', 'max_depth': 6}\n",
            "Accuracy : 0.6667711993551719\n",
            "__________________________________________________________\n",
            "SVC\n",
            "Tuned Hyperparameters : {'C': 0.1, 'gamma': 1, 'kernel': 'linear'}\n",
            "Accuracy : 0.7565622599211597\n",
            "__________________________________________________________\n"
          ]
        }
      ]
    },
    {
      "cell_type": "code",
      "source": [
        "def best_model(name):\n",
        "  estimator = joblib.load('/content/drive/MyDrive/CSCI 535 Project/Implementation/training_models/models/ami_{0}_best_model.pkl'.format(name))\n",
        "  print(estimator)\n",
        "  estimator.fit(x_train_ami,y_train_ami)\n",
        "  preds = estimator.predict(x_val_reddit.cpu().detach().numpy())\n",
        "  accuracy = accuracy_score(y_val_reddit, preds)\n",
        "  precision = precision_score(y_val_reddit, preds)\n",
        "  recall = recall_score(y_val_reddit, preds)\n",
        "  print(\"Accuracy:\", accuracy)\n",
        "  print(\"Precision:\", precision)\n",
        "  print(\"Recall:\", recall)\n",
        "  # Create the confusion matrix\n",
        "  cm = confusion_matrix(y_val_reddit, preds)\n",
        "  ConfusionMatrixDisplay(confusion_matrix=cm).plot();\n",
        "  print('Classification Report:')\n",
        "  print('\\n')\n",
        "  print(classification_report(y_val_reddit, preds))"
      ],
      "metadata": {
        "id": "dda4TPhQxcnm"
      },
      "execution_count": null,
      "outputs": []
    },
    {
      "cell_type": "code",
      "source": [
        "best_model('SVC')"
      ],
      "metadata": {
        "colab": {
          "base_uri": "https://localhost:8080/",
          "height": 557
        },
        "id": "JvHsedzkxjWF",
        "outputId": "210041fa-b8b1-422d-e328-5a28a8aa2766"
      },
      "execution_count": null,
      "outputs": [
        {
          "output_type": "stream",
          "name": "stdout",
          "text": [
            "SVC(C=0.1, gamma=1, kernel='linear', random_state=0)\n",
            "Accuracy: 0.676402767102229\n",
            "Precision: 0.18803418803418803\n",
            "Recall: 0.6821705426356589\n",
            "Classification Report:\n",
            "\n",
            "\n",
            "              precision    recall  f1-score   support\n",
            "\n",
            "           0       0.95      0.68      0.79      1172\n",
            "           1       0.19      0.68      0.29       129\n",
            "\n",
            "    accuracy                           0.68      1301\n",
            "   macro avg       0.57      0.68      0.54      1301\n",
            "weighted avg       0.88      0.68      0.74      1301\n",
            "\n"
          ]
        },
        {
          "output_type": "display_data",
          "data": {
            "text/plain": [
              "<Figure size 432x288 with 2 Axes>"
            ],
            "image/png": "[encoded data removed]"
          },
          "metadata": {
            "needs_background": "light"
          }
        }
      ]
    },
    {
      "cell_type": "code",
      "source": [
        "best_model('LogisticRegression')"
      ],
      "metadata": {
        "colab": {
          "base_uri": "https://localhost:8080/",
          "height": 558
        },
        "id": "qUQDbpvSxmQL",
        "outputId": "9b3e4c75-487b-48a2-e8f2-54c3c3bb5489"
      },
      "execution_count": null,
      "outputs": [
        {
          "output_type": "stream",
          "name": "stdout",
          "text": [
            "LogisticRegression(random_state=0, solver='liblinear')\n",
            "Accuracy: 0.7471176018447349\n",
            "Precision: 0.1875\n",
            "Recall: 0.46511627906976744\n",
            "Classification Report:\n",
            "\n",
            "\n",
            "              precision    recall  f1-score   support\n",
            "\n",
            "           0       0.93      0.78      0.85      1172\n",
            "           1       0.19      0.47      0.27       129\n",
            "\n",
            "    accuracy                           0.75      1301\n",
            "   macro avg       0.56      0.62      0.56      1301\n",
            "weighted avg       0.86      0.75      0.79      1301\n",
            "\n"
          ]
        },
        {
          "output_type": "display_data",
          "data": {
            "text/plain": [
              "<Figure size 432x288 with 2 Axes>"
            ],
            "image/png": "[encoded data removed]"
          },
          "metadata": {
            "needs_background": "light"
          }
        }
      ]
    },
    {
      "cell_type": "code",
      "source": [
        "best_model('DecisionTreeClassifier')"
      ],
      "metadata": {
        "colab": {
          "base_uri": "https://localhost:8080/",
          "height": 557
        },
        "id": "2o7T4oSDxoxB",
        "outputId": "3ca467cb-79e0-4f59-b7f9-4ea2f2dd5a34"
      },
      "execution_count": null,
      "outputs": [
        {
          "output_type": "stream",
          "name": "stdout",
          "text": [
            "DecisionTreeClassifier(criterion='entropy', max_depth=6, random_state=0)\n",
            "Accuracy: 0.6241352805534205\n",
            "Precision: 0.12343096234309624\n",
            "Recall: 0.4573643410852713\n",
            "Classification Report:\n",
            "\n",
            "\n",
            "              precision    recall  f1-score   support\n",
            "\n",
            "           0       0.91      0.64      0.75      1172\n",
            "           1       0.12      0.46      0.19       129\n",
            "\n",
            "    accuracy                           0.62      1301\n",
            "   macro avg       0.52      0.55      0.47      1301\n",
            "weighted avg       0.84      0.62      0.70      1301\n",
            "\n"
          ]
        },
        {
          "output_type": "display_data",
          "data": {
            "text/plain": [
              "<Figure size 432x288 with 2 Axes>"
            ],
            "image/png": "[encoded data removed]"
          },
          "metadata": {
            "needs_background": "light"
          }
        }
      ]
    },
    {
      "cell_type": "code",
      "source": [
        "def best_model_ami_reddit(name):\n",
        "  estimator = joblib.load('/content/drive/MyDrive/CSCI 535 Project/Implementation/training_models/models/ami_{0}_best_model.pkl'.format(name))\n",
        "  print(estimator)\n",
        "  estimator.fit(x_train_reddit.cpu(),y_train_reddit)\n",
        "  preds = estimator.predict(x_val_reddit.cpu().detach().numpy())\n",
        "  accuracy = accuracy_score(y_val_reddit, preds)\n",
        "  precision = precision_score(y_val_reddit, preds)\n",
        "  recall = recall_score(y_val_reddit, preds)\n",
        "  print(\"Accuracy:\", accuracy)\n",
        "  print(\"Precision:\", precision)\n",
        "  print(\"Recall:\", recall)\n",
        "  # Create the confusion matrix\n",
        "  cm = confusion_matrix(y_val_reddit, preds)\n",
        "  ConfusionMatrixDisplay(confusion_matrix=cm).plot();\n",
        "  print('Classification Report:')\n",
        "  print('\\n')\n",
        "  print(classification_report(y_val_reddit, preds))"
      ],
      "metadata": {
        "id": "VrCFHYlQxrwU"
      },
      "execution_count": null,
      "outputs": []
    },
    {
      "cell_type": "code",
      "source": [
        "best_model_ami_reddit('SVC')"
      ],
      "metadata": {
        "colab": {
          "base_uri": "https://localhost:8080/",
          "height": 557
        },
        "id": "LXpI6xPwx28S",
        "outputId": "d74b881e-fa21-4861-d351-25ec97675e50"
      },
      "execution_count": null,
      "outputs": [
        {
          "output_type": "stream",
          "name": "stdout",
          "text": [
            "SVC(C=0.1, gamma=1, kernel='linear', random_state=0)\n",
            "Accuracy: 0.9116064565718678\n",
            "Precision: 0.6521739130434783\n",
            "Recall: 0.23255813953488372\n",
            "Classification Report:\n",
            "\n",
            "\n",
            "              precision    recall  f1-score   support\n",
            "\n",
            "           0       0.92      0.99      0.95      1172\n",
            "           1       0.65      0.23      0.34       129\n",
            "\n",
            "    accuracy                           0.91      1301\n",
            "   macro avg       0.79      0.61      0.65      1301\n",
            "weighted avg       0.89      0.91      0.89      1301\n",
            "\n"
          ]
        },
        {
          "output_type": "display_data",
          "data": {
            "text/plain": [
              "<Figure size 432x288 with 2 Axes>"
            ],
            "image/png": "[encoded data removed]"
          },
          "metadata": {
            "needs_background": "light"
          }
        }
      ]
    },
    {
      "cell_type": "code",
      "source": [
        "best_model_ami_reddit('LogisticRegression')"
      ],
      "metadata": {
        "colab": {
          "base_uri": "https://localhost:8080/",
          "height": 557
        },
        "id": "6iEax4z-x6Yq",
        "outputId": "5f146fc8-529a-4e1c-f7e4-703f03d5b16a"
      },
      "execution_count": null,
      "outputs": [
        {
          "output_type": "stream",
          "name": "stdout",
          "text": [
            "LogisticRegression(random_state=0, solver='liblinear')\n",
            "Accuracy: 0.8954650269023828\n",
            "Precision: 0.4520547945205479\n",
            "Recall: 0.2558139534883721\n",
            "Classification Report:\n",
            "\n",
            "\n",
            "              precision    recall  f1-score   support\n",
            "\n",
            "           0       0.92      0.97      0.94      1172\n",
            "           1       0.45      0.26      0.33       129\n",
            "\n",
            "    accuracy                           0.90      1301\n",
            "   macro avg       0.69      0.61      0.64      1301\n",
            "weighted avg       0.88      0.90      0.88      1301\n",
            "\n"
          ]
        },
        {
          "output_type": "display_data",
          "data": {
            "text/plain": [
              "<Figure size 432x288 with 2 Axes>"
            ],
            "image/png": "[encoded data removed]"
          },
          "metadata": {
            "needs_background": "light"
          }
        }
      ]
    },
    {
      "cell_type": "code",
      "source": [
        "best_model_ami_reddit('DecisionTreeClassifier')"
      ],
      "metadata": {
        "colab": {
          "base_uri": "https://localhost:8080/",
          "height": 557
        },
        "id": "VLCYC3zGx_tK",
        "outputId": "ce07f1ef-851e-4937-c9da-b12d9e58a22b"
      },
      "execution_count": null,
      "outputs": [
        {
          "output_type": "stream",
          "name": "stdout",
          "text": [
            "DecisionTreeClassifier(criterion='entropy', max_depth=6, random_state=0)\n",
            "Accuracy: 0.8862413528055342\n",
            "Precision: 0.2682926829268293\n",
            "Recall: 0.08527131782945736\n",
            "Classification Report:\n",
            "\n",
            "\n",
            "              precision    recall  f1-score   support\n",
            "\n",
            "           0       0.91      0.97      0.94      1172\n",
            "           1       0.27      0.09      0.13       129\n",
            "\n",
            "    accuracy                           0.89      1301\n",
            "   macro avg       0.59      0.53      0.53      1301\n",
            "weighted avg       0.84      0.89      0.86      1301\n",
            "\n"
          ]
        },
        {
          "output_type": "display_data",
          "data": {
            "text/plain": [
              "<Figure size 432x288 with 2 Axes>"
            ],
            "image/png": "[encoded data removed]"
          },
          "metadata": {
            "needs_background": "light"
          }
        }
      ]
    },
    {
      "cell_type": "code",
      "source": [
        "processed_data = {}\n",
        "def construct_model_reddit(x_train,y_train):\n",
        "    # the list of classifiers to use\n",
        "    # use random_state for reproducibility\n",
        "    classifiers = [\n",
        "        LogisticRegression(random_state=0), \n",
        "        DecisionTreeClassifier(random_state=0),\n",
        "        SVC(random_state=0), \n",
        "    ]\n",
        "    \n",
        "    logregress_parameters = { \n",
        "        'C'       : np.logspace(-1,1,3),\n",
        "        'solver'  : ['newton-cg', 'lbfgs', 'liblinear'],\n",
        "    }\n",
        "    \n",
        "    svc_parameters ={   \n",
        "        'C': [0.1, 1, 10], \n",
        "        'gamma': [1, 0.1, 0.01],\n",
        "        'kernel': ['linear']\n",
        "    } \n",
        "    dt_parameters = {\n",
        "        #'criterion':['gini','entropy'],\n",
        "        'max_depth':[200,300,500]\n",
        "    }\n",
        "    # stores all the paramete rs in a list \n",
        "    parameters = [\n",
        "        logregress_parameters, \n",
        "        dt_parameters,\n",
        "        svc_parameters, \n",
        "    ]\n",
        "    # estimators is a list of tuple -> \n",
        "    #   [(name_of_classifier, tuned_estimator)]\n",
        "    processed_data['estimators'] = []\n",
        "    \n",
        "    # iterate through each classifier and use GridSearchCV\n",
        "    for i, classifier in enumerate(classifiers):\n",
        "        clf = GridSearchCV(classifier,              # model\n",
        "                  param_grid = parameters[i], # hyperparameters\n",
        "                  scoring='accuracy',         # metric for scoring\n",
        "                  cv=10,\n",
        "                  n_jobs=-1, error_score='raise')\n",
        "        #X_train, processed_data['X_test'], y_train, processed_data['y_test'], indices_train, processed_data['indices_test'] = train_test_split(features, labels, dataframe.index, test_size=0.33, random_state=0, shuffle=True)\n",
        "        clf.fit(x_train,y_train)\n",
        "        # add the clf to the estimators list\n",
        "        processed_data['estimators'].append((classifier.__class__.__name__, clf))  "
      ],
      "metadata": {
        "id": "vAyPUCR3yD0t"
      },
      "execution_count": null,
      "outputs": []
    },
    {
      "cell_type": "code",
      "source": [
        "construct_model_reddit(x_train_reddit.cpu(),y_train_reddit)"
      ],
      "metadata": {
        "id": "4uEMiz7-y9Sd"
      },
      "execution_count": null,
      "outputs": []
    },
    {
      "cell_type": "code",
      "source": [
        "for name, clf in processed_data['estimators']:\n",
        "    print(name)\n",
        "    print(\"Tuned Hyperparameters :\", clf.best_params_)\n",
        "    print(\"Accuracy :\", clf.best_score_)\n",
        "    print(\"__________________________________________________________\")\n",
        "    joblib.dump(clf.best_estimator_, '/content/drive/MyDrive/CSCI 535 Project/Implementation/training_models/models/reddit_{0}_best_model.pkl'.format(name))"
      ],
      "metadata": {
        "colab": {
          "base_uri": "https://localhost:8080/"
        },
        "id": "-Pk0V0PUzBb1",
        "outputId": "62f5990f-40c4-412e-c9f9-8b90eb688f84"
      },
      "execution_count": null,
      "outputs": [
        {
          "output_type": "stream",
          "name": "stdout",
          "text": [
            "LogisticRegression\n",
            "Tuned Hyperparameters : {'C': 0.1, 'solver': 'liblinear'}\n",
            "Accuracy : 0.902365381133442\n",
            "__________________________________________________________\n",
            "DecisionTreeClassifier\n",
            "Tuned Hyperparameters : {'max_depth': 200}\n",
            "Accuracy : 0.8294644215100488\n",
            "__________________________________________________________\n",
            "SVC\n",
            "Tuned Hyperparameters : {'C': 0.1, 'gamma': 1, 'kernel': 'linear'}\n",
            "Accuracy : 0.9044569980083288\n",
            "__________________________________________________________\n"
          ]
        }
      ]
    },
    {
      "cell_type": "code",
      "source": [
        "def best_model_reddit(name):\n",
        "  estimator = joblib.load('/content/drive/MyDrive/CSCI 535 Project/Implementation/training_models/models/reddit_{0}_best_model.pkl'.format(name))\n",
        "  print(estimator)\n",
        "  estimator.fit(x_train_reddit.cpu(),y_train_reddit)\n",
        "  preds = estimator.predict(x_val_reddit.cpu())\n",
        "  accuracy = accuracy_score(y_val_reddit, preds)\n",
        "  precision = precision_score(y_val_reddit, preds)\n",
        "  recall = recall_score(y_val_reddit, preds)\n",
        "  print(\"Accuracy:\", accuracy)\n",
        "  print(\"Precision:\", precision)\n",
        "  print(\"Recall:\", recall)\n",
        "  # Create the confusion matrix\n",
        "  cm = confusion_matrix(y_val_reddit, preds)\n",
        "  ConfusionMatrixDisplay(confusion_matrix=cm).plot();\n",
        "  print('Classification Report:')\n",
        "  print('\\n')\n",
        "  print(classification_report(y_val_reddit, preds))"
      ],
      "metadata": {
        "id": "2loJmiDf0LNA"
      },
      "execution_count": null,
      "outputs": []
    },
    {
      "cell_type": "code",
      "source": [
        "best_model_reddit('SVC')"
      ],
      "metadata": {
        "colab": {
          "base_uri": "https://localhost:8080/",
          "height": 557
        },
        "id": "VO6F1R-X0Qyy",
        "outputId": "80b5dcd2-0ed1-4e6b-e7eb-15a8aaf1e4e1"
      },
      "execution_count": null,
      "outputs": [
        {
          "output_type": "stream",
          "name": "stdout",
          "text": [
            "SVC(C=0.1, gamma=1, kernel='linear', random_state=0)\n",
            "Accuracy: 0.9116064565718678\n",
            "Precision: 0.6521739130434783\n",
            "Recall: 0.23255813953488372\n",
            "Classification Report:\n",
            "\n",
            "\n",
            "              precision    recall  f1-score   support\n",
            "\n",
            "           0       0.92      0.99      0.95      1172\n",
            "           1       0.65      0.23      0.34       129\n",
            "\n",
            "    accuracy                           0.91      1301\n",
            "   macro avg       0.79      0.61      0.65      1301\n",
            "weighted avg       0.89      0.91      0.89      1301\n",
            "\n"
          ]
        },
        {
          "output_type": "display_data",
          "data": {
            "text/plain": [
              "<Figure size 432x288 with 2 Axes>"
            ],
            "image/png": "[encoded data removed]"
          },
          "metadata": {
            "needs_background": "light"
          }
        }
      ]
    },
    {
      "cell_type": "code",
      "source": [
        "best_model_reddit('LogisticRegression')"
      ],
      "metadata": {
        "colab": {
          "base_uri": "https://localhost:8080/",
          "height": 557
        },
        "id": "Juw2IQBr0RV0",
        "outputId": "dcd18d98-d9c4-4caf-aa01-82ccdd26cfd3"
      },
      "execution_count": null,
      "outputs": [
        {
          "output_type": "stream",
          "name": "stdout",
          "text": [
            "LogisticRegression(C=0.1, random_state=0, solver='liblinear')\n",
            "Accuracy: 0.9093005380476556\n",
            "Precision: 0.6078431372549019\n",
            "Recall: 0.24031007751937986\n",
            "Classification Report:\n",
            "\n",
            "\n",
            "              precision    recall  f1-score   support\n",
            "\n",
            "           0       0.92      0.98      0.95      1172\n",
            "           1       0.61      0.24      0.34       129\n",
            "\n",
            "    accuracy                           0.91      1301\n",
            "   macro avg       0.76      0.61      0.65      1301\n",
            "weighted avg       0.89      0.91      0.89      1301\n",
            "\n"
          ]
        },
        {
          "output_type": "display_data",
          "data": {
            "text/plain": [
              "<Figure size 432x288 with 2 Axes>"
            ],
            "image/png": "[encoded data removed]"
          },
          "metadata": {
            "needs_background": "light"
          }
        }
      ]
    },
    {
      "cell_type": "code",
      "source": [
        "best_model_reddit('DecisionTreeClassifier')"
      ],
      "metadata": {
        "colab": {
          "base_uri": "https://localhost:8080/",
          "height": 557
        },
        "id": "ZES1zFYC0R4F",
        "outputId": "570dbee3-ba5d-4205-9e35-d6d45e462482"
      },
      "execution_count": null,
      "outputs": [
        {
          "output_type": "stream",
          "name": "stdout",
          "text": [
            "DecisionTreeClassifier(max_depth=200, random_state=0)\n",
            "Accuracy: 0.8447348193697156\n",
            "Precision: 0.22962962962962963\n",
            "Recall: 0.24031007751937986\n",
            "Classification Report:\n",
            "\n",
            "\n",
            "              precision    recall  f1-score   support\n",
            "\n",
            "           0       0.92      0.91      0.91      1172\n",
            "           1       0.23      0.24      0.23       129\n",
            "\n",
            "    accuracy                           0.84      1301\n",
            "   macro avg       0.57      0.58      0.57      1301\n",
            "weighted avg       0.85      0.84      0.85      1301\n",
            "\n"
          ]
        },
        {
          "output_type": "display_data",
          "data": {
            "text/plain": [
              "<Figure size 432x288 with 2 Axes>"
            ],
            "image/png": "[encoded data removed]"
          },
          "metadata": {
            "needs_background": "light"
          }
        }
      ]
    },
    {
      "cell_type": "code",
      "source": [],
      "metadata": {
        "id": "GKZ8LSO-2b8u"
      },
      "execution_count": null,
      "outputs": []
    },
    {
      "cell_type": "markdown",
      "source": [
        "### Combining all 6 models"
      ],
      "metadata": {
        "id": "oxGTqOB59QRy"
      }
    },
    {
      "cell_type": "code",
      "source": [
        "name='SVC'\n",
        "ami_sv = joblib.load('/content/drive/MyDrive/CSCI 535 Project/Implementation/training_models/models/ami_{0}_best_model.pkl'.format(name))\n",
        "ami_sv = SVC(C=0.1, gamma=1, kernel='linear', random_state=0,probability=True)\n",
        "ami_sv.fit(x_train_ami,y_train_ami)\n",
        "preds_ami_sv  = ami_sv.predict(x_val_reddit.cpu())\n",
        "preds_proba_ami_sv = ami_sv.predict_proba(x_val_reddit.cpu())\n",
        "preds_proba_ami_sv\n",
        "\n",
        "\n",
        "name='LogisticRegression'\n",
        "ami_lr = joblib.load('/content/drive/MyDrive/CSCI 535 Project/Implementation/training_models/models/ami_{0}_best_model.pkl'.format(name))\n",
        "ami_lr.fit(x_train_ami,y_train_ami)\n",
        "preds_ami_lr  = ami_lr.predict(x_val_reddit.cpu())\n",
        "preds_proba_ami_lr = ami_lr.predict_proba(x_val_reddit.cpu())\n",
        "preds_proba_ami_lr\n",
        "\n",
        "name='DecisionTreeClassifier'\n",
        "ami_dt = joblib.load('/content/drive/MyDrive/CSCI 535 Project/Implementation/training_models/models/ami_{0}_best_model.pkl'.format(name))\n",
        "ami_dt.fit(x_train_ami,y_train_ami)\n",
        "preds_ami_dt = ami_dt.predict(x_val_reddit.cpu())\n",
        "preds_proba_ami_dt = ami_dt.predict_proba(x_val_reddit.cpu())\n",
        "preds_proba_ami_dt"
      ],
      "metadata": {
        "colab": {
          "base_uri": "https://localhost:8080/"
        },
        "id": "JhdTfBbG9SLr",
        "outputId": "aa06fc6a-e7b5-42c1-8eb3-db8f4d921299"
      },
      "execution_count": null,
      "outputs": [
        {
          "output_type": "execute_result",
          "data": {
            "text/plain": [
              "array([[0.45      , 0.55      ],\n",
              "       [0.68421053, 0.31578947],\n",
              "       [0.716     , 0.284     ],\n",
              "       ...,\n",
              "       [0.4       , 0.6       ],\n",
              "       [0.29577465, 0.70422535],\n",
              "       [0.29577465, 0.70422535]])"
            ]
          },
          "metadata": {},
          "execution_count": 26
        }
      ]
    },
    {
      "cell_type": "code",
      "source": [
        "df_probas = pd.DataFrame(columns = ['AMI_SVC_0','AMI_LR_0','AMI_DT_0','RED_SVC_0','RED_LR_0','RED_DT_0',\n",
        "                                    'AMI_SVC_1','AMI_LR_1','AMI_DT_1','RED_SVC_1','RED_LR_1','RED_DT_1'])\n"
      ],
      "metadata": {
        "id": "s6FidcJ7-p6U"
      },
      "execution_count": null,
      "outputs": []
    },
    {
      "cell_type": "code",
      "source": [
        "df_probas['AMI_SVC_0']=preds_proba_ami_sv[:,0]\n",
        "df_probas['AMI_SVC_1']=preds_proba_ami_sv[:,1]\n",
        "\n",
        "df_probas['AMI_LR_0']=preds_proba_ami_lr[:,0]\n",
        "df_probas['AMI_LR_1']=preds_proba_ami_lr[:,1]\n",
        "\n",
        "df_probas['AMI_DT_0']=preds_proba_ami_dt[:,0]\n",
        "df_probas['AMI_DT_1']=preds_proba_ami_dt[:,1]"
      ],
      "metadata": {
        "id": "bzAJjfO__Odz"
      },
      "execution_count": null,
      "outputs": []
    },
    {
      "cell_type": "code",
      "source": [
        "df_probas"
      ],
      "metadata": {
        "colab": {
          "base_uri": "https://localhost:8080/",
          "height": 423
        },
        "id": "RaXd18Ew_VSu",
        "outputId": "407faaba-566f-496c-e47c-d1aaa6bc9ed0"
      },
      "execution_count": null,
      "outputs": [
        {
          "output_type": "execute_result",
          "data": {
            "text/plain": [
              "      AMI_SVC_0  AMI_LR_0  AMI_DT_0 RED_SVC_0 RED_LR_0 RED_DT_0  AMI_SVC_1  \\\n",
              "0      0.153736  0.511808  0.450000       NaN      NaN      NaN   0.846264   \n",
              "1      0.974909  0.998017  0.684211       NaN      NaN      NaN   0.025091   \n",
              "2      0.711504  0.972237  0.716000       NaN      NaN      NaN   0.288496   \n",
              "3      0.967432  0.980073  0.673913       NaN      NaN      NaN   0.032568   \n",
              "4      0.977398  0.999171  1.000000       NaN      NaN      NaN   0.022602   \n",
              "...         ...       ...       ...       ...      ...      ...        ...   \n",
              "1296   0.261979  0.186734  0.777778       NaN      NaN      NaN   0.738021   \n",
              "1297   0.072792  0.067695  0.400000       NaN      NaN      NaN   0.927208   \n",
              "1298   0.072792  0.067695  0.400000       NaN      NaN      NaN   0.927208   \n",
              "1299   0.864366  0.859017  0.295775       NaN      NaN      NaN   0.135634   \n",
              "1300   0.968319  0.965351  0.295775       NaN      NaN      NaN   0.031681   \n",
              "\n",
              "      AMI_LR_1  AMI_DT_1 RED_SVC_1 RED_LR_1 RED_DT_1  \n",
              "0     0.488192  0.550000       NaN      NaN      NaN  \n",
              "1     0.001983  0.315789       NaN      NaN      NaN  \n",
              "2     0.027763  0.284000       NaN      NaN      NaN  \n",
              "3     0.019927  0.326087       NaN      NaN      NaN  \n",
              "4     0.000829  0.000000       NaN      NaN      NaN  \n",
              "...        ...       ...       ...      ...      ...  \n",
              "1296  0.813266  0.222222       NaN      NaN      NaN  \n",
              "1297  0.932305  0.600000       NaN      NaN      NaN  \n",
              "1298  0.932305  0.600000       NaN      NaN      NaN  \n",
              "1299  0.140983  0.704225       NaN      NaN      NaN  \n",
              "1300  0.034649  0.704225       NaN      NaN      NaN  \n",
              "\n",
              "[1301 rows x 12 columns]"
            ],
            "text/html": [
              "\n",
              "  <div id=\"df-6bc3e878-59d1-427b-8801-015b456e72a4\">\n",
              "    <div class=\"colab-df-container\">\n",
              "      <div>\n",
              "<style scoped>\n",
              "    .dataframe tbody tr th:only-of-type {\n",
              "        vertical-align: middle;\n",
              "    }\n",
              "\n",
              "    .dataframe tbody tr th {\n",
              "        vertical-align: top;\n",
              "    }\n",
              "\n",
              "    .dataframe thead th {\n",
              "        text-align: right;\n",
              "    }\n",
              "</style>\n",
              "<table border=\"1\" class=\"dataframe\">\n",
              "  <thead>\n",
              "    <tr style=\"text-align: right;\">\n",
              "      <th></th>\n",
              "      <th>AMI_SVC_0</th>\n",
              "      <th>AMI_LR_0</th>\n",
              "      <th>AMI_DT_0</th>\n",
              "      <th>RED_SVC_0</th>\n",
              "      <th>RED_LR_0</th>\n",
              "      <th>RED_DT_0</th>\n",
              "      <th>AMI_SVC_1</th>\n",
              "      <th>AMI_LR_1</th>\n",
              "      <th>AMI_DT_1</th>\n",
              "      <th>RED_SVC_1</th>\n",
              "      <th>RED_LR_1</th>\n",
              "      <th>RED_DT_1</th>\n",
              "    </tr>\n",
              "  </thead>\n",
              "  <tbody>\n",
              "    <tr>\n",
              "      <th>0</th>\n",
              "      <td>0.153736</td>\n",
              "      <td>0.511808</td>\n",
              "      <td>0.450000</td>\n",
              "      <td>NaN</td>\n",
              "      <td>NaN</td>\n",
              "      <td>NaN</td>\n",
              "      <td>0.846264</td>\n",
              "      <td>0.488192</td>\n",
              "      <td>0.550000</td>\n",
              "      <td>NaN</td>\n",
              "      <td>NaN</td>\n",
              "      <td>NaN</td>\n",
              "    </tr>\n",
              "    <tr>\n",
              "      <th>1</th>\n",
              "      <td>0.974909</td>\n",
              "      <td>0.998017</td>\n",
              "      <td>0.684211</td>\n",
              "      <td>NaN</td>\n",
              "      <td>NaN</td>\n",
              "      <td>NaN</td>\n",
              "      <td>0.025091</td>\n",
              "      <td>0.001983</td>\n",
              "      <td>0.315789</td>\n",
              "      <td>NaN</td>\n",
              "      <td>NaN</td>\n",
              "      <td>NaN</td>\n",
              "    </tr>\n",
              "    <tr>\n",
              "      <th>2</th>\n",
              "      <td>0.711504</td>\n",
              "      <td>0.972237</td>\n",
              "      <td>0.716000</td>\n",
              "      <td>NaN</td>\n",
              "      <td>NaN</td>\n",
              "      <td>NaN</td>\n",
              "      <td>0.288496</td>\n",
              "      <td>0.027763</td>\n",
              "      <td>0.284000</td>\n",
              "      <td>NaN</td>\n",
              "      <td>NaN</td>\n",
              "      <td>NaN</td>\n",
              "    </tr>\n",
              "    <tr>\n",
              "      <th>3</th>\n",
              "      <td>0.967432</td>\n",
              "      <td>0.980073</td>\n",
              "      <td>0.673913</td>\n",
              "      <td>NaN</td>\n",
              "      <td>NaN</td>\n",
              "      <td>NaN</td>\n",
              "      <td>0.032568</td>\n",
              "      <td>0.019927</td>\n",
              "      <td>0.326087</td>\n",
              "      <td>NaN</td>\n",
              "      <td>NaN</td>\n",
              "      <td>NaN</td>\n",
              "    </tr>\n",
              "    <tr>\n",
              "      <th>4</th>\n",
              "      <td>0.977398</td>\n",
              "      <td>0.999171</td>\n",
              "      <td>1.000000</td>\n",
              "      <td>NaN</td>\n",
              "      <td>NaN</td>\n",
              "      <td>NaN</td>\n",
              "      <td>0.022602</td>\n",
              "      <td>0.000829</td>\n",
              "      <td>0.000000</td>\n",
              "      <td>NaN</td>\n",
              "      <td>NaN</td>\n",
              "      <td>NaN</td>\n",
              "    </tr>\n",
              "    <tr>\n",
              "      <th>...</th>\n",
              "      <td>...</td>\n",
              "      <td>...</td>\n",
              "      <td>...</td>\n",
              "      <td>...</td>\n",
              "      <td>...</td>\n",
              "      <td>...</td>\n",
              "      <td>...</td>\n",
              "      <td>...</td>\n",
              "      <td>...</td>\n",
              "      <td>...</td>\n",
              "      <td>...</td>\n",
              "      <td>...</td>\n",
              "    </tr>\n",
              "    <tr>\n",
              "      <th>1296</th>\n",
              "      <td>0.261979</td>\n",
              "      <td>0.186734</td>\n",
              "      <td>0.777778</td>\n",
              "      <td>NaN</td>\n",
              "      <td>NaN</td>\n",
              "      <td>NaN</td>\n",
              "      <td>0.738021</td>\n",
              "      <td>0.813266</td>\n",
              "      <td>0.222222</td>\n",
              "      <td>NaN</td>\n",
              "      <td>NaN</td>\n",
              "      <td>NaN</td>\n",
              "    </tr>\n",
              "    <tr>\n",
              "      <th>1297</th>\n",
              "      <td>0.072792</td>\n",
              "      <td>0.067695</td>\n",
              "      <td>0.400000</td>\n",
              "      <td>NaN</td>\n",
              "      <td>NaN</td>\n",
              "      <td>NaN</td>\n",
              "      <td>0.927208</td>\n",
              "      <td>0.932305</td>\n",
              "      <td>0.600000</td>\n",
              "      <td>NaN</td>\n",
              "      <td>NaN</td>\n",
              "      <td>NaN</td>\n",
              "    </tr>\n",
              "    <tr>\n",
              "      <th>1298</th>\n",
              "      <td>0.072792</td>\n",
              "      <td>0.067695</td>\n",
              "      <td>0.400000</td>\n",
              "      <td>NaN</td>\n",
              "      <td>NaN</td>\n",
              "      <td>NaN</td>\n",
              "      <td>0.927208</td>\n",
              "      <td>0.932305</td>\n",
              "      <td>0.600000</td>\n",
              "      <td>NaN</td>\n",
              "      <td>NaN</td>\n",
              "      <td>NaN</td>\n",
              "    </tr>\n",
              "    <tr>\n",
              "      <th>1299</th>\n",
              "      <td>0.864366</td>\n",
              "      <td>0.859017</td>\n",
              "      <td>0.295775</td>\n",
              "      <td>NaN</td>\n",
              "      <td>NaN</td>\n",
              "      <td>NaN</td>\n",
              "      <td>0.135634</td>\n",
              "      <td>0.140983</td>\n",
              "      <td>0.704225</td>\n",
              "      <td>NaN</td>\n",
              "      <td>NaN</td>\n",
              "      <td>NaN</td>\n",
              "    </tr>\n",
              "    <tr>\n",
              "      <th>1300</th>\n",
              "      <td>0.968319</td>\n",
              "      <td>0.965351</td>\n",
              "      <td>0.295775</td>\n",
              "      <td>NaN</td>\n",
              "      <td>NaN</td>\n",
              "      <td>NaN</td>\n",
              "      <td>0.031681</td>\n",
              "      <td>0.034649</td>\n",
              "      <td>0.704225</td>\n",
              "      <td>NaN</td>\n",
              "      <td>NaN</td>\n",
              "      <td>NaN</td>\n",
              "    </tr>\n",
              "  </tbody>\n",
              "</table>\n",
              "<p>1301 rows × 12 columns</p>\n",
              "</div>\n",
              "      <button class=\"colab-df-convert\" onclick=\"convertToInteractive('df-6bc3e878-59d1-427b-8801-015b456e72a4')\"\n",
              "              title=\"Convert this dataframe to an interactive table.\"\n",
              "              style=\"display:none;\">\n",
              "        \n",
              "  <svg xmlns=\"http://www.w3.org/2000/svg\" height=\"24px\"viewBox=\"0 0 24 24\"\n",
              "       width=\"24px\">\n",
              "    <path d=\"M0 0h24v24H0V0z\" fill=\"none\"/>\n",
              "    <path d=\"M18.56 5.44l.94 2.06.94-2.06 2.06-.94-2.06-.94-.94-2.06-.94 2.06-2.06.94zm-11 1L8.5 8.5l.94-2.06 2.06-.94-2.06-.94L8.5 2.5l-.94 2.06-2.06.94zm10 10l.94 2.06.94-2.06 2.06-.94-2.06-.94-.94-2.06-.94 2.06-2.06.94z\"/><path d=\"M17.41 7.96l-1.37-1.37c-.4-.4-.92-.59-1.43-.59-.52 0-1.04.2-1.43.59L10.3 9.45l-7.72 7.72c-.78.78-.78 2.05 0 2.83L4 21.41c.39.39.9.59 1.41.59.51 0 1.02-.2 1.41-.59l7.78-7.78 2.81-2.81c.8-.78.8-2.07 0-2.86zM5.41 20L4 18.59l7.72-7.72 1.47 1.35L5.41 20z\"/>\n",
              "  </svg>\n",
              "      </button>\n",
              "      \n",
              "  <style>\n",
              "    .colab-df-container {\n",
              "      display:flex;\n",
              "      flex-wrap:wrap;\n",
              "      gap: 12px;\n",
              "    }\n",
              "\n",
              "    .colab-df-convert {\n",
              "      background-color: #E8F0FE;\n",
              "      border: none;\n",
              "      border-radius: 50%;\n",
              "      cursor: pointer;\n",
              "      display: none;\n",
              "      fill: #1967D2;\n",
              "      height: 32px;\n",
              "      padding: 0 0 0 0;\n",
              "      width: 32px;\n",
              "    }\n",
              "\n",
              "    .colab-df-convert:hover {\n",
              "      background-color: #E2EBFA;\n",
              "      box-shadow: 0px 1px 2px rgba(60, 64, 67, 0.3), 0px 1px 3px 1px rgba(60, 64, 67, 0.15);\n",
              "      fill: #174EA6;\n",
              "    }\n",
              "\n",
              "    [theme=dark] .colab-df-convert {\n",
              "      background-color: #3B4455;\n",
              "      fill: #D2E3FC;\n",
              "    }\n",
              "\n",
              "    [theme=dark] .colab-df-convert:hover {\n",
              "      background-color: #434B5C;\n",
              "      box-shadow: 0px 1px 3px 1px rgba(0, 0, 0, 0.15);\n",
              "      filter: drop-shadow(0px 1px 2px rgba(0, 0, 0, 0.3));\n",
              "      fill: #FFFFFF;\n",
              "    }\n",
              "  </style>\n",
              "\n",
              "      <script>\n",
              "        const buttonEl =\n",
              "          document.querySelector('#df-6bc3e878-59d1-427b-8801-015b456e72a4 button.colab-df-convert');\n",
              "        buttonEl.style.display =\n",
              "          google.colab.kernel.accessAllowed ? 'block' : 'none';\n",
              "\n",
              "        async function convertToInteractive(key) {\n",
              "          const element = document.querySelector('#df-6bc3e878-59d1-427b-8801-015b456e72a4');\n",
              "          const dataTable =\n",
              "            await google.colab.kernel.invokeFunction('convertToInteractive',\n",
              "                                                     [key], {});\n",
              "          if (!dataTable) return;\n",
              "\n",
              "          const docLinkHtml = 'Like what you see? Visit the ' +\n",
              "            '<a target=\"_blank\" href=https://colab.research.google.com/notebooks/data_table.ipynb>data table notebook</a>'\n",
              "            + ' to learn more about interactive tables.';\n",
              "          element.innerHTML = '';\n",
              "          dataTable['output_type'] = 'display_data';\n",
              "          await google.colab.output.renderOutput(dataTable, element);\n",
              "          const docLink = document.createElement('div');\n",
              "          docLink.innerHTML = docLinkHtml;\n",
              "          element.appendChild(docLink);\n",
              "        }\n",
              "      </script>\n",
              "    </div>\n",
              "  </div>\n",
              "  "
            ]
          },
          "metadata": {},
          "execution_count": 35
        }
      ]
    },
    {
      "cell_type": "code",
      "source": [
        "name='SVC'\n",
        "red_sv = joblib.load('/content/drive/MyDrive/CSCI 535 Project/Implementation/training_models/models/reddit_{0}_best_model.pkl'.format(name))\n",
        "red_sv = SVC(C=0.1, gamma=1, kernel='linear', random_state=0,probability=True)\n",
        "red_sv.fit(x_train_reddit.cpu(),y_train_reddit)\n",
        "preds_red_sv  = red_sv.predict(x_val_reddit.cpu())\n",
        "preds_proba_red_sv = red_sv.predict_proba(x_val_reddit.cpu())\n",
        "preds_proba_red_sv\n",
        "\n",
        "\n",
        "name='LogisticRegression'\n",
        "red_lr = joblib.load('/content/drive/MyDrive/CSCI 535 Project/Implementation/training_models/models/reddit_{0}_best_model.pkl'.format(name))\n",
        "red_lr.fit(x_train_reddit.cpu(),y_train_reddit)\n",
        "preds_red_lr  = red_lr.predict(x_val_reddit.cpu())\n",
        "preds_proba_red_lr = red_lr.predict_proba(x_val_reddit.cpu())\n",
        "preds_proba_red_lr\n",
        "\n",
        "name='DecisionTreeClassifier'\n",
        "red_dt = joblib.load('/content/drive/MyDrive/CSCI 535 Project/Implementation/training_models/models/reddit_{0}_best_model.pkl'.format(name))\n",
        "red_dt.fit(x_train_reddit.cpu(),y_train_reddit)\n",
        "preds_red_dt = red_dt.predict(x_val_reddit.cpu())\n",
        "preds_proba_red_dt = red_dt.predict_proba(x_val_reddit.cpu())\n",
        "preds_proba_red_dt"
      ],
      "metadata": {
        "colab": {
          "base_uri": "https://localhost:8080/"
        },
        "id": "Y_aSTCz6Bnk6",
        "outputId": "c52cca97-9ea0-4840-fd07-8ff65c0b3165"
      },
      "execution_count": null,
      "outputs": [
        {
          "output_type": "execute_result",
          "data": {
            "text/plain": [
              "array([[1., 0.],\n",
              "       [1., 0.],\n",
              "       [1., 0.],\n",
              "       ...,\n",
              "       [1., 0.],\n",
              "       [1., 0.],\n",
              "       [1., 0.]])"
            ]
          },
          "metadata": {},
          "execution_count": 37
        }
      ]
    },
    {
      "cell_type": "code",
      "source": [
        "df_probas['RED_SVC_0']=preds_proba_red_sv[:,0]\n",
        "df_probas['RED_SVC_1']=preds_proba_red_sv[:,1]\n",
        "\n",
        "df_probas['RED_LR_0']=preds_proba_red_lr[:,0]\n",
        "df_probas['RED_LR_1']=preds_proba_red_lr[:,1]\n",
        "\n",
        "df_probas['RED_DT_0']=preds_proba_red_dt[:,0]\n",
        "df_probas['RED_DT_1']=preds_proba_red_dt[:,1]"
      ],
      "metadata": {
        "id": "G8O4DH2lCUcw"
      },
      "execution_count": null,
      "outputs": []
    },
    {
      "cell_type": "code",
      "source": [
        "df_probas"
      ],
      "metadata": {
        "colab": {
          "base_uri": "https://localhost:8080/",
          "height": 423
        },
        "id": "AIluw66yDDcU",
        "outputId": "80b0b7e2-e387-4ddc-b2f2-4f425c424d2f"
      },
      "execution_count": null,
      "outputs": [
        {
          "output_type": "execute_result",
          "data": {
            "text/plain": [
              "      AMI_SVC_0  AMI_LR_0  AMI_DT_0  RED_SVC_0  RED_LR_0  RED_DT_0  AMI_SVC_1  \\\n",
              "0      0.153736  0.511808  0.450000   0.808942  0.903025       1.0   0.846264   \n",
              "1      0.974909  0.998017  0.684211   0.995420  0.997363       1.0   0.025091   \n",
              "2      0.711504  0.972237  0.716000   0.972443  0.984004       1.0   0.288496   \n",
              "3      0.967432  0.980073  0.673913   0.988965  0.994621       1.0   0.032568   \n",
              "4      0.977398  0.999171  1.000000   0.922063  0.940031       1.0   0.022602   \n",
              "...         ...       ...       ...        ...       ...       ...        ...   \n",
              "1296   0.261979  0.186734  0.777778   0.956278  0.946524       1.0   0.738021   \n",
              "1297   0.072792  0.067695  0.400000   0.759448  0.665794       1.0   0.927208   \n",
              "1298   0.072792  0.067695  0.400000   0.759448  0.665794       1.0   0.927208   \n",
              "1299   0.864366  0.859017  0.295775   0.931520  0.902826       1.0   0.135634   \n",
              "1300   0.968319  0.965351  0.295775   0.958475  0.963576       1.0   0.031681   \n",
              "\n",
              "      AMI_LR_1  AMI_DT_1  RED_SVC_1  RED_LR_1  RED_DT_1  \n",
              "0     0.488192  0.550000   0.191058  0.096975       0.0  \n",
              "1     0.001983  0.315789   0.004580  0.002637       0.0  \n",
              "2     0.027763  0.284000   0.027557  0.015996       0.0  \n",
              "3     0.019927  0.326087   0.011035  0.005379       0.0  \n",
              "4     0.000829  0.000000   0.077937  0.059969       0.0  \n",
              "...        ...       ...        ...       ...       ...  \n",
              "1296  0.813266  0.222222   0.043722  0.053476       0.0  \n",
              "1297  0.932305  0.600000   0.240552  0.334206       0.0  \n",
              "1298  0.932305  0.600000   0.240552  0.334206       0.0  \n",
              "1299  0.140983  0.704225   0.068480  0.097174       0.0  \n",
              "1300  0.034649  0.704225   0.041525  0.036424       0.0  \n",
              "\n",
              "[1301 rows x 12 columns]"
            ],
            "text/html": [
              "\n",
              "  <div id=\"df-4f1c8059-a9f2-458e-9d51-22abfdf15712\">\n",
              "    <div class=\"colab-df-container\">\n",
              "      <div>\n",
              "<style scoped>\n",
              "    .dataframe tbody tr th:only-of-type {\n",
              "        vertical-align: middle;\n",
              "    }\n",
              "\n",
              "    .dataframe tbody tr th {\n",
              "        vertical-align: top;\n",
              "    }\n",
              "\n",
              "    .dataframe thead th {\n",
              "        text-align: right;\n",
              "    }\n",
              "</style>\n",
              "<table border=\"1\" class=\"dataframe\">\n",
              "  <thead>\n",
              "    <tr style=\"text-align: right;\">\n",
              "      <th></th>\n",
              "      <th>AMI_SVC_0</th>\n",
              "      <th>AMI_LR_0</th>\n",
              "      <th>AMI_DT_0</th>\n",
              "      <th>RED_SVC_0</th>\n",
              "      <th>RED_LR_0</th>\n",
              "      <th>RED_DT_0</th>\n",
              "      <th>AMI_SVC_1</th>\n",
              "      <th>AMI_LR_1</th>\n",
              "      <th>AMI_DT_1</th>\n",
              "      <th>RED_SVC_1</th>\n",
              "      <th>RED_LR_1</th>\n",
              "      <th>RED_DT_1</th>\n",
              "    </tr>\n",
              "  </thead>\n",
              "  <tbody>\n",
              "    <tr>\n",
              "      <th>0</th>\n",
              "      <td>0.153736</td>\n",
              "      <td>0.511808</td>\n",
              "      <td>0.450000</td>\n",
              "      <td>0.808942</td>\n",
              "      <td>0.903025</td>\n",
              "      <td>1.0</td>\n",
              "      <td>0.846264</td>\n",
              "      <td>0.488192</td>\n",
              "      <td>0.550000</td>\n",
              "      <td>0.191058</td>\n",
              "      <td>0.096975</td>\n",
              "      <td>0.0</td>\n",
              "    </tr>\n",
              "    <tr>\n",
              "      <th>1</th>\n",
              "      <td>0.974909</td>\n",
              "      <td>0.998017</td>\n",
              "      <td>0.684211</td>\n",
              "      <td>0.995420</td>\n",
              "      <td>0.997363</td>\n",
              "      <td>1.0</td>\n",
              "      <td>0.025091</td>\n",
              "      <td>0.001983</td>\n",
              "      <td>0.315789</td>\n",
              "      <td>0.004580</td>\n",
              "      <td>0.002637</td>\n",
              "      <td>0.0</td>\n",
              "    </tr>\n",
              "    <tr>\n",
              "      <th>2</th>\n",
              "      <td>0.711504</td>\n",
              "      <td>0.972237</td>\n",
              "      <td>0.716000</td>\n",
              "      <td>0.972443</td>\n",
              "      <td>0.984004</td>\n",
              "      <td>1.0</td>\n",
              "      <td>0.288496</td>\n",
              "      <td>0.027763</td>\n",
              "      <td>0.284000</td>\n",
              "      <td>0.027557</td>\n",
              "      <td>0.015996</td>\n",
              "      <td>0.0</td>\n",
              "    </tr>\n",
              "    <tr>\n",
              "      <th>3</th>\n",
              "      <td>0.967432</td>\n",
              "      <td>0.980073</td>\n",
              "      <td>0.673913</td>\n",
              "      <td>0.988965</td>\n",
              "      <td>0.994621</td>\n",
              "      <td>1.0</td>\n",
              "      <td>0.032568</td>\n",
              "      <td>0.019927</td>\n",
              "      <td>0.326087</td>\n",
              "      <td>0.011035</td>\n",
              "      <td>0.005379</td>\n",
              "      <td>0.0</td>\n",
              "    </tr>\n",
              "    <tr>\n",
              "      <th>4</th>\n",
              "      <td>0.977398</td>\n",
              "      <td>0.999171</td>\n",
              "      <td>1.000000</td>\n",
              "      <td>0.922063</td>\n",
              "      <td>0.940031</td>\n",
              "      <td>1.0</td>\n",
              "      <td>0.022602</td>\n",
              "      <td>0.000829</td>\n",
              "      <td>0.000000</td>\n",
              "      <td>0.077937</td>\n",
              "      <td>0.059969</td>\n",
              "      <td>0.0</td>\n",
              "    </tr>\n",
              "    <tr>\n",
              "      <th>...</th>\n",
              "      <td>...</td>\n",
              "      <td>...</td>\n",
              "      <td>...</td>\n",
              "      <td>...</td>\n",
              "      <td>...</td>\n",
              "      <td>...</td>\n",
              "      <td>...</td>\n",
              "      <td>...</td>\n",
              "      <td>...</td>\n",
              "      <td>...</td>\n",
              "      <td>...</td>\n",
              "      <td>...</td>\n",
              "    </tr>\n",
              "    <tr>\n",
              "      <th>1296</th>\n",
              "      <td>0.261979</td>\n",
              "      <td>0.186734</td>\n",
              "      <td>0.777778</td>\n",
              "      <td>0.956278</td>\n",
              "      <td>0.946524</td>\n",
              "      <td>1.0</td>\n",
              "      <td>0.738021</td>\n",
              "      <td>0.813266</td>\n",
              "      <td>0.222222</td>\n",
              "      <td>0.043722</td>\n",
              "      <td>0.053476</td>\n",
              "      <td>0.0</td>\n",
              "    </tr>\n",
              "    <tr>\n",
              "      <th>1297</th>\n",
              "      <td>0.072792</td>\n",
              "      <td>0.067695</td>\n",
              "      <td>0.400000</td>\n",
              "      <td>0.759448</td>\n",
              "      <td>0.665794</td>\n",
              "      <td>1.0</td>\n",
              "      <td>0.927208</td>\n",
              "      <td>0.932305</td>\n",
              "      <td>0.600000</td>\n",
              "      <td>0.240552</td>\n",
              "      <td>0.334206</td>\n",
              "      <td>0.0</td>\n",
              "    </tr>\n",
              "    <tr>\n",
              "      <th>1298</th>\n",
              "      <td>0.072792</td>\n",
              "      <td>0.067695</td>\n",
              "      <td>0.400000</td>\n",
              "      <td>0.759448</td>\n",
              "      <td>0.665794</td>\n",
              "      <td>1.0</td>\n",
              "      <td>0.927208</td>\n",
              "      <td>0.932305</td>\n",
              "      <td>0.600000</td>\n",
              "      <td>0.240552</td>\n",
              "      <td>0.334206</td>\n",
              "      <td>0.0</td>\n",
              "    </tr>\n",
              "    <tr>\n",
              "      <th>1299</th>\n",
              "      <td>0.864366</td>\n",
              "      <td>0.859017</td>\n",
              "      <td>0.295775</td>\n",
              "      <td>0.931520</td>\n",
              "      <td>0.902826</td>\n",
              "      <td>1.0</td>\n",
              "      <td>0.135634</td>\n",
              "      <td>0.140983</td>\n",
              "      <td>0.704225</td>\n",
              "      <td>0.068480</td>\n",
              "      <td>0.097174</td>\n",
              "      <td>0.0</td>\n",
              "    </tr>\n",
              "    <tr>\n",
              "      <th>1300</th>\n",
              "      <td>0.968319</td>\n",
              "      <td>0.965351</td>\n",
              "      <td>0.295775</td>\n",
              "      <td>0.958475</td>\n",
              "      <td>0.963576</td>\n",
              "      <td>1.0</td>\n",
              "      <td>0.031681</td>\n",
              "      <td>0.034649</td>\n",
              "      <td>0.704225</td>\n",
              "      <td>0.041525</td>\n",
              "      <td>0.036424</td>\n",
              "      <td>0.0</td>\n",
              "    </tr>\n",
              "  </tbody>\n",
              "</table>\n",
              "<p>1301 rows × 12 columns</p>\n",
              "</div>\n",
              "      <button class=\"colab-df-convert\" onclick=\"convertToInteractive('df-4f1c8059-a9f2-458e-9d51-22abfdf15712')\"\n",
              "              title=\"Convert this dataframe to an interactive table.\"\n",
              "              style=\"display:none;\">\n",
              "        \n",
              "  <svg xmlns=\"http://www.w3.org/2000/svg\" height=\"24px\"viewBox=\"0 0 24 24\"\n",
              "       width=\"24px\">\n",
              "    <path d=\"M0 0h24v24H0V0z\" fill=\"none\"/>\n",
              "    <path d=\"M18.56 5.44l.94 2.06.94-2.06 2.06-.94-2.06-.94-.94-2.06-.94 2.06-2.06.94zm-11 1L8.5 8.5l.94-2.06 2.06-.94-2.06-.94L8.5 2.5l-.94 2.06-2.06.94zm10 10l.94 2.06.94-2.06 2.06-.94-2.06-.94-.94-2.06-.94 2.06-2.06.94z\"/><path d=\"M17.41 7.96l-1.37-1.37c-.4-.4-.92-.59-1.43-.59-.52 0-1.04.2-1.43.59L10.3 9.45l-7.72 7.72c-.78.78-.78 2.05 0 2.83L4 21.41c.39.39.9.59 1.41.59.51 0 1.02-.2 1.41-.59l7.78-7.78 2.81-2.81c.8-.78.8-2.07 0-2.86zM5.41 20L4 18.59l7.72-7.72 1.47 1.35L5.41 20z\"/>\n",
              "  </svg>\n",
              "      </button>\n",
              "      \n",
              "  <style>\n",
              "    .colab-df-container {\n",
              "      display:flex;\n",
              "      flex-wrap:wrap;\n",
              "      gap: 12px;\n",
              "    }\n",
              "\n",
              "    .colab-df-convert {\n",
              "      background-color: #E8F0FE;\n",
              "      border: none;\n",
              "      border-radius: 50%;\n",
              "      cursor: pointer;\n",
              "      display: none;\n",
              "      fill: #1967D2;\n",
              "      height: 32px;\n",
              "      padding: 0 0 0 0;\n",
              "      width: 32px;\n",
              "    }\n",
              "\n",
              "    .colab-df-convert:hover {\n",
              "      background-color: #E2EBFA;\n",
              "      box-shadow: 0px 1px 2px rgba(60, 64, 67, 0.3), 0px 1px 3px 1px rgba(60, 64, 67, 0.15);\n",
              "      fill: #174EA6;\n",
              "    }\n",
              "\n",
              "    [theme=dark] .colab-df-convert {\n",
              "      background-color: #3B4455;\n",
              "      fill: #D2E3FC;\n",
              "    }\n",
              "\n",
              "    [theme=dark] .colab-df-convert:hover {\n",
              "      background-color: #434B5C;\n",
              "      box-shadow: 0px 1px 3px 1px rgba(0, 0, 0, 0.15);\n",
              "      filter: drop-shadow(0px 1px 2px rgba(0, 0, 0, 0.3));\n",
              "      fill: #FFFFFF;\n",
              "    }\n",
              "  </style>\n",
              "\n",
              "      <script>\n",
              "        const buttonEl =\n",
              "          document.querySelector('#df-4f1c8059-a9f2-458e-9d51-22abfdf15712 button.colab-df-convert');\n",
              "        buttonEl.style.display =\n",
              "          google.colab.kernel.accessAllowed ? 'block' : 'none';\n",
              "\n",
              "        async function convertToInteractive(key) {\n",
              "          const element = document.querySelector('#df-4f1c8059-a9f2-458e-9d51-22abfdf15712');\n",
              "          const dataTable =\n",
              "            await google.colab.kernel.invokeFunction('convertToInteractive',\n",
              "                                                     [key], {});\n",
              "          if (!dataTable) return;\n",
              "\n",
              "          const docLinkHtml = 'Like what you see? Visit the ' +\n",
              "            '<a target=\"_blank\" href=https://colab.research.google.com/notebooks/data_table.ipynb>data table notebook</a>'\n",
              "            + ' to learn more about interactive tables.';\n",
              "          element.innerHTML = '';\n",
              "          dataTable['output_type'] = 'display_data';\n",
              "          await google.colab.output.renderOutput(dataTable, element);\n",
              "          const docLink = document.createElement('div');\n",
              "          docLink.innerHTML = docLinkHtml;\n",
              "          element.appendChild(docLink);\n",
              "        }\n",
              "      </script>\n",
              "    </div>\n",
              "  </div>\n",
              "  "
            ]
          },
          "metadata": {},
          "execution_count": 83
        }
      ]
    },
    {
      "cell_type": "code",
      "source": [
        "df_probas['class0_total_probas'] = df_probas.iloc[:,0:6].sum(axis = 1)/6\n",
        "df_probas['class1_total_probas'] = df_probas.iloc[:,6:12].sum(axis = 1)/6"
      ],
      "metadata": {
        "id": "syg7z1zQDOzJ"
      },
      "execution_count": null,
      "outputs": []
    },
    {
      "cell_type": "code",
      "source": [
        "df_probas['True_label']=y_val_reddit"
      ],
      "metadata": {
        "id": "-mmw3VgWDEZO"
      },
      "execution_count": null,
      "outputs": []
    },
    {
      "cell_type": "code",
      "source": [
        "pred_labels=[]\n",
        "for i,j in df_probas.iterrows():\n",
        "  if j['class0_total_probas']>j['class1_total_probas']:\n",
        "    pred_labels.append(0)\n",
        "  else:\n",
        "    pred_labels.append(1)"
      ],
      "metadata": {
        "id": "qi6dSldvFEs8"
      },
      "execution_count": null,
      "outputs": []
    },
    {
      "cell_type": "code",
      "source": [
        "df_probas['predicted_label']=pred_labels"
      ],
      "metadata": {
        "id": "LkK7O04nFitM"
      },
      "execution_count": null,
      "outputs": []
    },
    {
      "cell_type": "code",
      "source": [
        "df_probas"
      ],
      "metadata": {
        "colab": {
          "base_uri": "https://localhost:8080/",
          "height": 487
        },
        "id": "RQeQwTE_GW5q",
        "outputId": "adfaac15-68f9-4282-f8b6-2e88751f61d2"
      },
      "execution_count": null,
      "outputs": [
        {
          "output_type": "execute_result",
          "data": {
            "text/plain": [
              "      AMI_SVC_0  AMI_LR_0  AMI_DT_0  RED_SVC_0  RED_LR_0  RED_DT_0  AMI_SVC_1  \\\n",
              "0      0.153736  0.511808  0.450000   0.808942  0.903025       1.0   0.846264   \n",
              "1      0.974909  0.998017  0.684211   0.995420  0.997363       1.0   0.025091   \n",
              "2      0.711504  0.972237  0.716000   0.972443  0.984004       1.0   0.288496   \n",
              "3      0.967432  0.980073  0.673913   0.988965  0.994621       1.0   0.032568   \n",
              "4      0.977398  0.999171  1.000000   0.922063  0.940031       1.0   0.022602   \n",
              "...         ...       ...       ...        ...       ...       ...        ...   \n",
              "1296   0.261979  0.186734  0.777778   0.956278  0.946524       1.0   0.738021   \n",
              "1297   0.072792  0.067695  0.400000   0.759448  0.665794       1.0   0.927208   \n",
              "1298   0.072792  0.067695  0.400000   0.759448  0.665794       1.0   0.927208   \n",
              "1299   0.864366  0.859017  0.295775   0.931520  0.902826       1.0   0.135634   \n",
              "1300   0.968319  0.965351  0.295775   0.958475  0.963576       1.0   0.031681   \n",
              "\n",
              "      AMI_LR_1  AMI_DT_1  RED_SVC_1  RED_LR_1  RED_DT_1  class0_total_probas  \\\n",
              "0     0.488192  0.550000   0.191058  0.096975       0.0             0.637918   \n",
              "1     0.001983  0.315789   0.004580  0.002637       0.0             0.941653   \n",
              "2     0.027763  0.284000   0.027557  0.015996       0.0             0.892698   \n",
              "3     0.019927  0.326087   0.011035  0.005379       0.0             0.934167   \n",
              "4     0.000829  0.000000   0.077937  0.059969       0.0             0.973110   \n",
              "...        ...       ...        ...       ...       ...                  ...   \n",
              "1296  0.813266  0.222222   0.043722  0.053476       0.0             0.688215   \n",
              "1297  0.932305  0.600000   0.240552  0.334206       0.0             0.494288   \n",
              "1298  0.932305  0.600000   0.240552  0.334206       0.0             0.494288   \n",
              "1299  0.140983  0.704225   0.068480  0.097174       0.0             0.808917   \n",
              "1300  0.034649  0.704225   0.041525  0.036424       0.0             0.858583   \n",
              "\n",
              "      class1_total_probas  True_label  predicted_label  \n",
              "0                0.362082           0                0  \n",
              "1                0.058347           0                0  \n",
              "2                0.107302           0                0  \n",
              "3                0.065833           0                0  \n",
              "4                0.026890           0                0  \n",
              "...                   ...         ...              ...  \n",
              "1296             0.311785           0                0  \n",
              "1297             0.505712           1                1  \n",
              "1298             0.505712           1                1  \n",
              "1299             0.191083           1                0  \n",
              "1300             0.141417           1                0  \n",
              "\n",
              "[1301 rows x 16 columns]"
            ],
            "text/html": [
              "\n",
              "  <div id=\"df-c4ef30cb-90eb-4182-9473-79f79a5c4150\">\n",
              "    <div class=\"colab-df-container\">\n",
              "      <div>\n",
              "<style scoped>\n",
              "    .dataframe tbody tr th:only-of-type {\n",
              "        vertical-align: middle;\n",
              "    }\n",
              "\n",
              "    .dataframe tbody tr th {\n",
              "        vertical-align: top;\n",
              "    }\n",
              "\n",
              "    .dataframe thead th {\n",
              "        text-align: right;\n",
              "    }\n",
              "</style>\n",
              "<table border=\"1\" class=\"dataframe\">\n",
              "  <thead>\n",
              "    <tr style=\"text-align: right;\">\n",
              "      <th></th>\n",
              "      <th>AMI_SVC_0</th>\n",
              "      <th>AMI_LR_0</th>\n",
              "      <th>AMI_DT_0</th>\n",
              "      <th>RED_SVC_0</th>\n",
              "      <th>RED_LR_0</th>\n",
              "      <th>RED_DT_0</th>\n",
              "      <th>AMI_SVC_1</th>\n",
              "      <th>AMI_LR_1</th>\n",
              "      <th>AMI_DT_1</th>\n",
              "      <th>RED_SVC_1</th>\n",
              "      <th>RED_LR_1</th>\n",
              "      <th>RED_DT_1</th>\n",
              "      <th>class0_total_probas</th>\n",
              "      <th>class1_total_probas</th>\n",
              "      <th>True_label</th>\n",
              "      <th>predicted_label</th>\n",
              "    </tr>\n",
              "  </thead>\n",
              "  <tbody>\n",
              "    <tr>\n",
              "      <th>0</th>\n",
              "      <td>0.153736</td>\n",
              "      <td>0.511808</td>\n",
              "      <td>0.450000</td>\n",
              "      <td>0.808942</td>\n",
              "      <td>0.903025</td>\n",
              "      <td>1.0</td>\n",
              "      <td>0.846264</td>\n",
              "      <td>0.488192</td>\n",
              "      <td>0.550000</td>\n",
              "      <td>0.191058</td>\n",
              "      <td>0.096975</td>\n",
              "      <td>0.0</td>\n",
              "      <td>0.637918</td>\n",
              "      <td>0.362082</td>\n",
              "      <td>0</td>\n",
              "      <td>0</td>\n",
              "    </tr>\n",
              "    <tr>\n",
              "      <th>1</th>\n",
              "      <td>0.974909</td>\n",
              "      <td>0.998017</td>\n",
              "      <td>0.684211</td>\n",
              "      <td>0.995420</td>\n",
              "      <td>0.997363</td>\n",
              "      <td>1.0</td>\n",
              "      <td>0.025091</td>\n",
              "      <td>0.001983</td>\n",
              "      <td>0.315789</td>\n",
              "      <td>0.004580</td>\n",
              "      <td>0.002637</td>\n",
              "      <td>0.0</td>\n",
              "      <td>0.941653</td>\n",
              "      <td>0.058347</td>\n",
              "      <td>0</td>\n",
              "      <td>0</td>\n",
              "    </tr>\n",
              "    <tr>\n",
              "      <th>2</th>\n",
              "      <td>0.711504</td>\n",
              "      <td>0.972237</td>\n",
              "      <td>0.716000</td>\n",
              "      <td>0.972443</td>\n",
              "      <td>0.984004</td>\n",
              "      <td>1.0</td>\n",
              "      <td>0.288496</td>\n",
              "      <td>0.027763</td>\n",
              "      <td>0.284000</td>\n",
              "      <td>0.027557</td>\n",
              "      <td>0.015996</td>\n",
              "      <td>0.0</td>\n",
              "      <td>0.892698</td>\n",
              "      <td>0.107302</td>\n",
              "      <td>0</td>\n",
              "      <td>0</td>\n",
              "    </tr>\n",
              "    <tr>\n",
              "      <th>3</th>\n",
              "      <td>0.967432</td>\n",
              "      <td>0.980073</td>\n",
              "      <td>0.673913</td>\n",
              "      <td>0.988965</td>\n",
              "      <td>0.994621</td>\n",
              "      <td>1.0</td>\n",
              "      <td>0.032568</td>\n",
              "      <td>0.019927</td>\n",
              "      <td>0.326087</td>\n",
              "      <td>0.011035</td>\n",
              "      <td>0.005379</td>\n",
              "      <td>0.0</td>\n",
              "      <td>0.934167</td>\n",
              "      <td>0.065833</td>\n",
              "      <td>0</td>\n",
              "      <td>0</td>\n",
              "    </tr>\n",
              "    <tr>\n",
              "      <th>4</th>\n",
              "      <td>0.977398</td>\n",
              "      <td>0.999171</td>\n",
              "      <td>1.000000</td>\n",
              "      <td>0.922063</td>\n",
              "      <td>0.940031</td>\n",
              "      <td>1.0</td>\n",
              "      <td>0.022602</td>\n",
              "      <td>0.000829</td>\n",
              "      <td>0.000000</td>\n",
              "      <td>0.077937</td>\n",
              "      <td>0.059969</td>\n",
              "      <td>0.0</td>\n",
              "      <td>0.973110</td>\n",
              "      <td>0.026890</td>\n",
              "      <td>0</td>\n",
              "      <td>0</td>\n",
              "    </tr>\n",
              "    <tr>\n",
              "      <th>...</th>\n",
              "      <td>...</td>\n",
              "      <td>...</td>\n",
              "      <td>...</td>\n",
              "      <td>...</td>\n",
              "      <td>...</td>\n",
              "      <td>...</td>\n",
              "      <td>...</td>\n",
              "      <td>...</td>\n",
              "      <td>...</td>\n",
              "      <td>...</td>\n",
              "      <td>...</td>\n",
              "      <td>...</td>\n",
              "      <td>...</td>\n",
              "      <td>...</td>\n",
              "      <td>...</td>\n",
              "      <td>...</td>\n",
              "    </tr>\n",
              "    <tr>\n",
              "      <th>1296</th>\n",
              "      <td>0.261979</td>\n",
              "      <td>0.186734</td>\n",
              "      <td>0.777778</td>\n",
              "      <td>0.956278</td>\n",
              "      <td>0.946524</td>\n",
              "      <td>1.0</td>\n",
              "      <td>0.738021</td>\n",
              "      <td>0.813266</td>\n",
              "      <td>0.222222</td>\n",
              "      <td>0.043722</td>\n",
              "      <td>0.053476</td>\n",
              "      <td>0.0</td>\n",
              "      <td>0.688215</td>\n",
              "      <td>0.311785</td>\n",
              "      <td>0</td>\n",
              "      <td>0</td>\n",
              "    </tr>\n",
              "    <tr>\n",
              "      <th>1297</th>\n",
              "      <td>0.072792</td>\n",
              "      <td>0.067695</td>\n",
              "      <td>0.400000</td>\n",
              "      <td>0.759448</td>\n",
              "      <td>0.665794</td>\n",
              "      <td>1.0</td>\n",
              "      <td>0.927208</td>\n",
              "      <td>0.932305</td>\n",
              "      <td>0.600000</td>\n",
              "      <td>0.240552</td>\n",
              "      <td>0.334206</td>\n",
              "      <td>0.0</td>\n",
              "      <td>0.494288</td>\n",
              "      <td>0.505712</td>\n",
              "      <td>1</td>\n",
              "      <td>1</td>\n",
              "    </tr>\n",
              "    <tr>\n",
              "      <th>1298</th>\n",
              "      <td>0.072792</td>\n",
              "      <td>0.067695</td>\n",
              "      <td>0.400000</td>\n",
              "      <td>0.759448</td>\n",
              "      <td>0.665794</td>\n",
              "      <td>1.0</td>\n",
              "      <td>0.927208</td>\n",
              "      <td>0.932305</td>\n",
              "      <td>0.600000</td>\n",
              "      <td>0.240552</td>\n",
              "      <td>0.334206</td>\n",
              "      <td>0.0</td>\n",
              "      <td>0.494288</td>\n",
              "      <td>0.505712</td>\n",
              "      <td>1</td>\n",
              "      <td>1</td>\n",
              "    </tr>\n",
              "    <tr>\n",
              "      <th>1299</th>\n",
              "      <td>0.864366</td>\n",
              "      <td>0.859017</td>\n",
              "      <td>0.295775</td>\n",
              "      <td>0.931520</td>\n",
              "      <td>0.902826</td>\n",
              "      <td>1.0</td>\n",
              "      <td>0.135634</td>\n",
              "      <td>0.140983</td>\n",
              "      <td>0.704225</td>\n",
              "      <td>0.068480</td>\n",
              "      <td>0.097174</td>\n",
              "      <td>0.0</td>\n",
              "      <td>0.808917</td>\n",
              "      <td>0.191083</td>\n",
              "      <td>1</td>\n",
              "      <td>0</td>\n",
              "    </tr>\n",
              "    <tr>\n",
              "      <th>1300</th>\n",
              "      <td>0.968319</td>\n",
              "      <td>0.965351</td>\n",
              "      <td>0.295775</td>\n",
              "      <td>0.958475</td>\n",
              "      <td>0.963576</td>\n",
              "      <td>1.0</td>\n",
              "      <td>0.031681</td>\n",
              "      <td>0.034649</td>\n",
              "      <td>0.704225</td>\n",
              "      <td>0.041525</td>\n",
              "      <td>0.036424</td>\n",
              "      <td>0.0</td>\n",
              "      <td>0.858583</td>\n",
              "      <td>0.141417</td>\n",
              "      <td>1</td>\n",
              "      <td>0</td>\n",
              "    </tr>\n",
              "  </tbody>\n",
              "</table>\n",
              "<p>1301 rows × 16 columns</p>\n",
              "</div>\n",
              "      <button class=\"colab-df-convert\" onclick=\"convertToInteractive('df-c4ef30cb-90eb-4182-9473-79f79a5c4150')\"\n",
              "              title=\"Convert this dataframe to an interactive table.\"\n",
              "              style=\"display:none;\">\n",
              "        \n",
              "  <svg xmlns=\"http://www.w3.org/2000/svg\" height=\"24px\"viewBox=\"0 0 24 24\"\n",
              "       width=\"24px\">\n",
              "    <path d=\"M0 0h24v24H0V0z\" fill=\"none\"/>\n",
              "    <path d=\"M18.56 5.44l.94 2.06.94-2.06 2.06-.94-2.06-.94-.94-2.06-.94 2.06-2.06.94zm-11 1L8.5 8.5l.94-2.06 2.06-.94-2.06-.94L8.5 2.5l-.94 2.06-2.06.94zm10 10l.94 2.06.94-2.06 2.06-.94-2.06-.94-.94-2.06-.94 2.06-2.06.94z\"/><path d=\"M17.41 7.96l-1.37-1.37c-.4-.4-.92-.59-1.43-.59-.52 0-1.04.2-1.43.59L10.3 9.45l-7.72 7.72c-.78.78-.78 2.05 0 2.83L4 21.41c.39.39.9.59 1.41.59.51 0 1.02-.2 1.41-.59l7.78-7.78 2.81-2.81c.8-.78.8-2.07 0-2.86zM5.41 20L4 18.59l7.72-7.72 1.47 1.35L5.41 20z\"/>\n",
              "  </svg>\n",
              "      </button>\n",
              "      \n",
              "  <style>\n",
              "    .colab-df-container {\n",
              "      display:flex;\n",
              "      flex-wrap:wrap;\n",
              "      gap: 12px;\n",
              "    }\n",
              "\n",
              "    .colab-df-convert {\n",
              "      background-color: #E8F0FE;\n",
              "      border: none;\n",
              "      border-radius: 50%;\n",
              "      cursor: pointer;\n",
              "      display: none;\n",
              "      fill: #1967D2;\n",
              "      height: 32px;\n",
              "      padding: 0 0 0 0;\n",
              "      width: 32px;\n",
              "    }\n",
              "\n",
              "    .colab-df-convert:hover {\n",
              "      background-color: #E2EBFA;\n",
              "      box-shadow: 0px 1px 2px rgba(60, 64, 67, 0.3), 0px 1px 3px 1px rgba(60, 64, 67, 0.15);\n",
              "      fill: #174EA6;\n",
              "    }\n",
              "\n",
              "    [theme=dark] .colab-df-convert {\n",
              "      background-color: #3B4455;\n",
              "      fill: #D2E3FC;\n",
              "    }\n",
              "\n",
              "    [theme=dark] .colab-df-convert:hover {\n",
              "      background-color: #434B5C;\n",
              "      box-shadow: 0px 1px 3px 1px rgba(0, 0, 0, 0.15);\n",
              "      filter: drop-shadow(0px 1px 2px rgba(0, 0, 0, 0.3));\n",
              "      fill: #FFFFFF;\n",
              "    }\n",
              "  </style>\n",
              "\n",
              "      <script>\n",
              "        const buttonEl =\n",
              "          document.querySelector('#df-c4ef30cb-90eb-4182-9473-79f79a5c4150 button.colab-df-convert');\n",
              "        buttonEl.style.display =\n",
              "          google.colab.kernel.accessAllowed ? 'block' : 'none';\n",
              "\n",
              "        async function convertToInteractive(key) {\n",
              "          const element = document.querySelector('#df-c4ef30cb-90eb-4182-9473-79f79a5c4150');\n",
              "          const dataTable =\n",
              "            await google.colab.kernel.invokeFunction('convertToInteractive',\n",
              "                                                     [key], {});\n",
              "          if (!dataTable) return;\n",
              "\n",
              "          const docLinkHtml = 'Like what you see? Visit the ' +\n",
              "            '<a target=\"_blank\" href=https://colab.research.google.com/notebooks/data_table.ipynb>data table notebook</a>'\n",
              "            + ' to learn more about interactive tables.';\n",
              "          element.innerHTML = '';\n",
              "          dataTable['output_type'] = 'display_data';\n",
              "          await google.colab.output.renderOutput(dataTable, element);\n",
              "          const docLink = document.createElement('div');\n",
              "          docLink.innerHTML = docLinkHtml;\n",
              "          element.appendChild(docLink);\n",
              "        }\n",
              "      </script>\n",
              "    </div>\n",
              "  </div>\n",
              "  "
            ]
          },
          "metadata": {},
          "execution_count": 90
        }
      ]
    },
    {
      "cell_type": "code",
      "source": [
        "accuracy = accuracy_score(df_probas['True_label'],df_probas['predicted_label'])\n",
        "precision = precision_score(df_probas['True_label'],df_probas['predicted_label'])\n",
        "recall = recall_score(df_probas['True_label'],df_probas['predicted_label'])\n",
        "print(\"Accuracy:\", accuracy)\n",
        "print(\"Precision:\", precision)\n",
        "print(\"Recall:\", recall)"
      ],
      "metadata": {
        "colab": {
          "base_uri": "https://localhost:8080/"
        },
        "id": "qLagNBysG1U_",
        "outputId": "6b3f9a24-53e5-42b0-c234-7af20cf9d9fc"
      },
      "execution_count": null,
      "outputs": [
        {
          "output_type": "stream",
          "name": "stdout",
          "text": [
            "Accuracy: 0.8877786318216756\n",
            "Precision: 0.4044943820224719\n",
            "Recall: 0.27906976744186046\n"
          ]
        }
      ]
    },
    {
      "cell_type": "code",
      "source": [
        "cm = confusion_matrix(df_probas['True_label'],df_probas['predicted_label'])\n",
        "ConfusionMatrixDisplay(confusion_matrix=cm).plot();\n",
        "print('Classification Report:')\n",
        "print('\\n')\n",
        "print(classification_report(df_probas['True_label'],df_probas['predicted_label']))"
      ],
      "metadata": {
        "colab": {
          "base_uri": "https://localhost:8080/",
          "height": 487
        },
        "id": "zNIrHwpDHHR-",
        "outputId": "0c811dcd-ba36-42af-848b-79984ca514f2"
      },
      "execution_count": null,
      "outputs": [
        {
          "output_type": "stream",
          "name": "stdout",
          "text": [
            "Classification Report:\n",
            "\n",
            "\n",
            "              precision    recall  f1-score   support\n",
            "\n",
            "           0       0.92      0.95      0.94      1172\n",
            "           1       0.40      0.28      0.33       129\n",
            "\n",
            "    accuracy                           0.89      1301\n",
            "   macro avg       0.66      0.62      0.63      1301\n",
            "weighted avg       0.87      0.89      0.88      1301\n",
            "\n"
          ]
        },
        {
          "output_type": "display_data",
          "data": {
            "text/plain": [
              "<Figure size 432x288 with 2 Axes>"
            ],
            "image/png": "[encoded data removed]"
          },
          "metadata": {
            "needs_background": "light"
          }
        }
      ]
    },
    {
      "cell_type": "code",
      "source": [
        "#tfidf?\n",
        "#0.32"
      ],
      "metadata": {
        "id": "veH0K_r_HgkO"
      },
      "execution_count": null,
      "outputs": []
    }
  ]
}